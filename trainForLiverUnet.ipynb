{
 "cells": [
  {
   "cell_type": "code",
   "execution_count": 7,
   "metadata": {},
   "outputs": [],
   "source": [
    "import tensorflow as tf\n",
    "import numpy as np"
   ]
  },
  {
   "cell_type": "code",
   "execution_count": 3,
   "metadata": {},
   "outputs": [],
   "source": [
    "images1 = []\n",
    "images2 = []\n",
    "num_of_epochs = 1\n",
    "def read_ct():\n",
    "    return"
   ]
  },
  {
   "cell_type": "code",
   "execution_count": 36,
   "metadata": {},
   "outputs": [],
   "source": [
    "def trainUnet(model,model_checkpoint,num_channels=2,num_ct=1):\n",
    "    \"\"\"\n",
    "        Training by taking ct scans of only num_ct files and each data point of shape\n",
    "        (512,512,num_channels)\n",
    "    \"\"\"\n",
    "    path = \"../data/batch1\"\n",
    "    for num_of_folders in range(2):\n",
    "        if num_of_folders==1:\n",
    "            path = \"../data/batch2\"\n",
    "        images ,segmentations = loadCT(path)\n",
    "        for i in range(0,len(images),num_ct):\n",
    "            X_train = []\n",
    "            y_train = []\n",
    "            img = []\n",
    "            seg = []\n",
    "            for po in range(i,i+num_ct,1):\n",
    "                if po==i :\n",
    "                    img = read_ct(images[i])\n",
    "                    seg = read_ct(segmentations[i])\n",
    "                else:\n",
    "                    img = np.concatenate((img,read_ct(images[po])),axis=2)\n",
    "                    seg = np.concatenate((seg,read_ct(segmentations[po])),axis=2)\n",
    "            ##img shape: (512,512,X) X is the sum of all slices of num_ct files\n",
    "            for j in range(0,img.shape[2],num_channels):\n",
    "                simg = img[:,:,j]\n",
    "                sseg = seg[:,:,j]\n",
    "                for k in range(1,num_channels):\n",
    "                    simg = np.concatenate((simg,img[:,:,j+k]),axis=2)\n",
    "                    sseg = np.concatenate((sseg,seg[:,:,j+k]),axis=2)\n",
    "                ## simg shape (512,512,num_channels)\n",
    "                X_train.append(simg)\n",
    "                y_train.append(sseg)\n",
    "            X_train = np.array(X_train)\n",
    "            y_train = np.array(y_train)\n",
    "            model.fit(X_train,y_train,callbacks=[model_checkpoint]) ## set epoch to 1\n",
    "    return model"
   ]
  },
  {
   "cell_type": "code",
   "execution_count": null,
   "metadata": {},
   "outputs": [],
   "source": []
  }
 ],
 "metadata": {
  "kernelspec": {
   "display_name": "Python 3",
   "language": "python",
   "name": "python3"
  },
  "language_info": {
   "codemirror_mode": {
    "name": "ipython",
    "version": 3
   },
   "file_extension": ".py",
   "mimetype": "text/x-python",
   "name": "python",
   "nbconvert_exporter": "python",
   "pygments_lexer": "ipython3",
   "version": "3.6.7"
  }
 },
 "nbformat": 4,
 "nbformat_minor": 2
}
